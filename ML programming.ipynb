{
 "cells": [
  {
   "cell_type": "code",
   "execution_count": 1,
   "id": "2fa2998e",
   "metadata": {},
   "outputs": [],
   "source": [
    "from numpy import *"
   ]
  },
  {
   "cell_type": "code",
   "execution_count": 2,
   "id": "2febd3c4",
   "metadata": {},
   "outputs": [
    {
     "name": "stdout",
     "output_type": "stream",
     "text": [
      "[[1 2 3 4]\n",
      " [5 6 7 8]]\n"
     ]
    }
   ],
   "source": [
    "a = array([[1,2,3,4],[5,6,7,8]])\n",
    "print(a)"
   ]
  },
  {
   "cell_type": "code",
   "execution_count": 3,
   "id": "1f54279e",
   "metadata": {},
   "outputs": [
    {
     "name": "stdout",
     "output_type": "stream",
     "text": [
      "(2, 4)\n"
     ]
    }
   ],
   "source": [
    "# shape : It is used find the dimensional shape of the array\n",
    "print(a.shape)"
   ]
  },
  {
   "cell_type": "code",
   "execution_count": 4,
   "id": "a89349a0",
   "metadata": {},
   "outputs": [
    {
     "name": "stdout",
     "output_type": "stream",
     "text": [
      "ndim 2\n"
     ]
    }
   ],
   "source": [
    "#ndim : returns an integer that tells us how many dimensions the array have.\n",
    "print(\"ndim\",a.ndim)"
   ]
  },
  {
   "cell_type": "code",
   "execution_count": 5,
   "id": "2b5593b8",
   "metadata": {},
   "outputs": [
    {
     "name": "stdout",
     "output_type": "stream",
     "text": [
      "Size :  8\n"
     ]
    }
   ],
   "source": [
    "#size : return the size of the array\n",
    "print(\"Size : \",a.size)"
   ]
  },
  {
   "cell_type": "code",
   "execution_count": 6,
   "id": "cd37d4e0",
   "metadata": {},
   "outputs": [
    {
     "name": "stdout",
     "output_type": "stream",
     "text": [
      "datatype :  int32\n"
     ]
    }
   ],
   "source": [
    "#dtype : return the datatype of the array\n",
    "print(\"datatype : \",a.dtype)"
   ]
  },
  {
   "cell_type": "code",
   "execution_count": 7,
   "id": "4c745d7a",
   "metadata": {},
   "outputs": [
    {
     "name": "stdout",
     "output_type": "stream",
     "text": [
      "4\n"
     ]
    }
   ],
   "source": [
    "#itemsize : The element size of this data-type object\n",
    "print(a.itemsize)"
   ]
  },
  {
   "cell_type": "code",
   "execution_count": 8,
   "id": "6b044864",
   "metadata": {},
   "outputs": [
    {
     "name": "stdout",
     "output_type": "stream",
     "text": [
      "<memory at 0x000001EAD7927120>\n"
     ]
    }
   ],
   "source": [
    "#data : will print the data of the array intenally\n",
    "print(a.data)"
   ]
  },
  {
   "cell_type": "code",
   "execution_count": 9,
   "id": "82aaad93",
   "metadata": {},
   "outputs": [],
   "source": [
    "m1 = array([[1,2],[3,4]])\n",
    "m2 = array([[5,6],[7,8]])"
   ]
  },
  {
   "cell_type": "code",
   "execution_count": 10,
   "id": "5815e32c",
   "metadata": {},
   "outputs": [
    {
     "name": "stdout",
     "output_type": "stream",
     "text": [
      "[[1 2]\n",
      " [3 4]]\n",
      "[[5 6]\n",
      " [7 8]]\n"
     ]
    }
   ],
   "source": [
    "print(m1)\n",
    "print(m2)"
   ]
  },
  {
   "cell_type": "code",
   "execution_count": 11,
   "id": "8b895802",
   "metadata": {},
   "outputs": [
    {
     "name": "stdout",
     "output_type": "stream",
     "text": [
      "[[19 22]\n",
      " [43 50]]\n"
     ]
    }
   ],
   "source": [
    "#dot : return the multiplication of the matrix\n",
    "mul = dot(m1,m2)  \n",
    "print(mul)"
   ]
  },
  {
   "cell_type": "code",
   "execution_count": 12,
   "id": "d5689e8c",
   "metadata": {},
   "outputs": [
    {
     "name": "stdout",
     "output_type": "stream",
     "text": [
      "[[ 5 12]\n",
      " [21 32]]\n"
     ]
    }
   ],
   "source": [
    "#multiply : it only multiply the elements\n",
    "mult = multiply(m1,m2) #only multiplication\n",
    "print(mult)"
   ]
  },
  {
   "cell_type": "code",
   "execution_count": 13,
   "id": "f6bdee91",
   "metadata": {},
   "outputs": [
    {
     "name": "stdout",
     "output_type": "stream",
     "text": [
      "[[4 4]\n",
      " [4 4]]\n"
     ]
    }
   ],
   "source": [
    "#subtract : will subtract the matrix\n",
    "subtrac = subtract(m2,m1)\n",
    "print(subtrac)"
   ]
  },
  {
   "cell_type": "code",
   "execution_count": 14,
   "id": "0d02a664",
   "metadata": {},
   "outputs": [
    {
     "name": "stdout",
     "output_type": "stream",
     "text": [
      "[[ 6  8]\n",
      " [10 12]]\n"
     ]
    }
   ],
   "source": [
    "#add : will add the two or more matrix\n",
    "addM = add(m1,m2)\n",
    "print(addM)"
   ]
  },
  {
   "cell_type": "code",
   "execution_count": 23,
   "id": "355d256e",
   "metadata": {},
   "outputs": [
    {
     "name": "stdout",
     "output_type": "stream",
     "text": [
      "[[1 2]\n",
      " [3 4]\n",
      " [5 6]\n",
      " [7 8]]\n"
     ]
    }
   ],
   "source": [
    "#vstack : arrange the array vertically\n",
    "v = vstack((m1,m2))\n",
    "print(v)"
   ]
  },
  {
   "cell_type": "code",
   "execution_count": 24,
   "id": "168f2fa9",
   "metadata": {},
   "outputs": [
    {
     "name": "stdout",
     "output_type": "stream",
     "text": [
      "[[1 2 5 6]\n",
      " [3 4 7 8]]\n"
     ]
    }
   ],
   "source": [
    "#hstack : arrange the array horizontally\n",
    "h = hstack((m1,m2))\n",
    "print(h)"
   ]
  },
  {
   "cell_type": "code",
   "execution_count": 18,
   "id": "c7761193",
   "metadata": {},
   "outputs": [
    {
     "name": "stdout",
     "output_type": "stream",
     "text": [
      "[56  7  8  9 12 45]\n",
      "[4 5]\n",
      "[56  7  8]\n",
      "[[3 4]]\n",
      "146\n"
     ]
    }
   ],
   "source": [
    "b = array([4,5,56,7,8,9,12,45])\n",
    "\n",
    "#starting from the 2nd element to the end\n",
    "print(b[2:])\n",
    "\n",
    "#starting from first element to the 2-1 element\n",
    "print(b[:2])\n",
    "\n",
    "#starting from the 2nd element to the 4th element\n",
    "print(b[2:5])\n",
    "\n",
    "#in the 1st matrix of m1 2 elements\n",
    "print(m1[1:2])\n",
    "\n",
    "#sum of all the elements in the array\n",
    "print(b.sum())\n"
   ]
  },
  {
   "cell_type": "code",
   "execution_count": 21,
   "id": "247b59a1",
   "metadata": {},
   "outputs": [
    {
     "name": "stdout",
     "output_type": "stream",
     "text": [
      "[[1 2 3]\n",
      " [4 5 6]\n",
      " [7 8 9]]\n",
      "9\n",
      "1\n",
      "Max in row is :  [3 6 9]\n",
      "Min in row is :  [1 2 3]\n"
     ]
    }
   ],
   "source": [
    "c = array([1,2,3,4,5,6,7,8,9])\n",
    "\n",
    "#reshape : shape the array according to our choice\n",
    "print(c.reshape(3,3))\n",
    "\n",
    "#max = maximum element from the array \n",
    "print(c.max())\n",
    "\n",
    "#min : minimum element from the array \n",
    "print(c.min())\n",
    "\n",
    "re = c.reshape(3,3)\n",
    "#axis=1 means row wise maximum\n",
    "print(\"Max in row is : \",re.max(axis=1))\n",
    "\n",
    "#axis=0 means column wise minimum  \n",
    "print(\"Min in row is : \",re.min(axis=0))  "
   ]
  },
  {
   "cell_type": "code",
   "execution_count": 20,
   "id": "6023c410",
   "metadata": {},
   "outputs": [
    {
     "name": "stdout",
     "output_type": "stream",
     "text": [
      "[2. 3. 5.]\n",
      "Standard deviation :  8.9566858950296\n"
     ]
    }
   ],
   "source": [
    "m4 = array([4,9,25])\n",
    "\n",
    "#sqrt : square root of the elements\n",
    "print(sqrt(m4))\n",
    "\n",
    "#std : calculates the standard deviation of given data along a specified axis.\n",
    "print(\"Standard deviation : \",std(m4))"
   ]
  },
  {
   "cell_type": "code",
   "execution_count": 22,
   "id": "54cbbe0a",
   "metadata": {},
   "outputs": [
    {
     "name": "stdout",
     "output_type": "stream",
     "text": [
      "[ 0  2  4  6  8 10 12 14 16 18]\n",
      "[ 1  6 11 16]\n",
      "[ 0.  2.  4.  6.  8. 10. 12. 14. 16. 18.]\n",
      "[ 0.  5. 10. 15. 20.]\n"
     ]
    }
   ],
   "source": [
    "#arange : starting to 0 to 20 range with 2 gap\n",
    "print(arange(0,20,2))\n",
    "print(arange(1,20,5))\n",
    "\n",
    "#in float value\n",
    "print(arange(0,20,2,float))\n",
    "\n",
    "#same as arange but default in float\n",
    "print(linspace(0,20,5))"
   ]
  },
  {
   "cell_type": "code",
   "execution_count": 25,
   "id": "0887cc50",
   "metadata": {},
   "outputs": [
    {
     "name": "stdout",
     "output_type": "stream",
     "text": [
      "[[1 3]\n",
      " [2 4]\n",
      " [5 7]\n",
      " [6 8]]\n"
     ]
    }
   ],
   "source": [
    "#the row and column indices of each element are swapped.\n",
    "ht = h.T\n",
    "print(ht)"
   ]
  },
  {
   "cell_type": "code",
   "execution_count": 26,
   "id": "79b6b5d1",
   "metadata": {},
   "outputs": [
    {
     "name": "stdout",
     "output_type": "stream",
     "text": [
      "element :  1\n",
      "element :  2\n",
      "element :  5\n",
      "element :  6\n",
      "element :  3\n",
      "element :  4\n",
      "element :  7\n",
      "element :  8\n"
     ]
    }
   ],
   "source": [
    "#nditer : This creates an iterator object that will iterate over the elements of the array ht\n",
    "for i in nditer(ht):\n",
    "    print(\"element : \",i)"
   ]
  },
  {
   "cell_type": "code",
   "execution_count": 28,
   "id": "3f4f5c77",
   "metadata": {},
   "outputs": [
    {
     "name": "stdout",
     "output_type": "stream",
     "text": [
      "[array([[1, 2],\n",
      "       [3, 4]]), array([[5, 6],\n",
      "       [7, 8]])]\n",
      "[array([[1, 2],\n",
      "       [3, 4]]), array([[5, 6],\n",
      "       [7, 8]])]\n"
     ]
    }
   ],
   "source": [
    "#hsplit : return the array in the horizontal form\n",
    "m1 = array([[1,2],[3,4]])\n",
    "m2 = array([[5,6],[7,8]])\n",
    "h = hstack((m1,m2))\n",
    "hnew = hsplit(h,2)\n",
    "print(hnew)\n",
    "\n",
    "#vsplit : return the array in the vertical form\n",
    "v = vstack((m1,m2))\n",
    "vnew = vsplit(v,2)\n",
    "print(vnew)"
   ]
  },
  {
   "cell_type": "code",
   "execution_count": 30,
   "id": "dc72e75b",
   "metadata": {},
   "outputs": [
    {
     "name": "stdout",
     "output_type": "stream",
     "text": [
      "Sqrt :  [4.79583152 5.83095189 6.70820393 8.18535277]\n",
      "Exp:  [9.74480345e+09 5.83461743e+14 3.49342711e+19 1.25236317e+29]\n",
      "Sin:  [-0.8462204   0.52908269  0.85090352 -0.85551998]\n",
      "Cos: [-0.53283302 -0.84857027  0.52532199 -0.5177698 ]\n",
      "Log:  [3.13549422 3.52636052 3.80666249 4.20469262]\n",
      "Sum:  169\n",
      "Std:  16.269219403523945\n"
     ]
    }
   ],
   "source": [
    "arr = array([23,34,45,67])\n",
    "\n",
    "#sqrt : Returns the square root of each element\n",
    "print(\"Sqrt : \",sqrt(arr))\n",
    "\n",
    "#exp : Returns the exponentials of each element\n",
    "print(\"Exp: \",exp(arr))\n",
    "\n",
    "#sin : Returns the sin of each element\n",
    "print(\"Sin: \",sin(arr))\n",
    "\n",
    "#cos : Returns the cosine of each element\n",
    "print(\"Cos:\",cos(arr))\n",
    "\n",
    "#log : Returns the logarithm of each element\n",
    "print(\"Log: \",log(arr))\n",
    "\n",
    "#sum : Returns the sum total of elements in the array\n",
    "print(\"Sum: \",sum(arr))\n",
    "\n",
    "#std : Returns the standard deviation of in the array\n",
    "print(\"Std: \",std(arr))"
   ]
  }
 ],
 "metadata": {
  "kernelspec": {
   "display_name": "Python 3 (ipykernel)",
   "language": "python",
   "name": "python3"
  },
  "language_info": {
   "codemirror_mode": {
    "name": "ipython",
    "version": 3
   },
   "file_extension": ".py",
   "mimetype": "text/x-python",
   "name": "python",
   "nbconvert_exporter": "python",
   "pygments_lexer": "ipython3",
   "version": "3.7.1"
  }
 },
 "nbformat": 4,
 "nbformat_minor": 5
}
